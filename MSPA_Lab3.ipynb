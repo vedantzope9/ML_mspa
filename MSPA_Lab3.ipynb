{
  "nbformat": 4,
  "nbformat_minor": 0,
  "metadata": {
    "colab": {
      "provenance": [],
      "authorship_tag": "ABX9TyMdhsWNxMNbO7plskGnqJnn",
      "include_colab_link": true
    },
    "kernelspec": {
      "name": "python3",
      "display_name": "Python 3"
    },
    "language_info": {
      "name": "python"
    }
  },
  "cells": [
    {
      "cell_type": "markdown",
      "metadata": {
        "id": "view-in-github",
        "colab_type": "text"
      },
      "source": [
        "<a href=\"https://colab.research.google.com/github/vedantzope9/ML_mspa/blob/main/MSPA_Lab3.ipynb\" target=\"_parent\"><img src=\"https://colab.research.google.com/assets/colab-badge.svg\" alt=\"Open In Colab\"/></a>"
      ]
    },
    {
      "cell_type": "code",
      "execution_count": 25,
      "metadata": {
        "id": "GkIZm9gnFK2N",
        "colab": {
          "base_uri": "https://localhost:8080/"
        },
        "outputId": "54197bcc-8c22-4111-9ec8-1cd6b88b0591"
      },
      "outputs": [
        {
          "output_type": "stream",
          "name": "stdout",
          "text": [
            "Hello World!\n"
          ]
        }
      ],
      "source": [
        "import tensorflow as tf\n",
        "msg = tf.constant(\"Hello World!\")\n",
        "tf.print(msg)"
      ]
    },
    {
      "cell_type": "code",
      "source": [
        "x = tf.constant(1, tf.int32)\n",
        "zeros = tf.zeros([2, 3], tf.int32)\n",
        "ones = tf.ones([2, 3], tf.int32)\n",
        "y = x *(zeros + ones + ones)\n",
        "\n",
        "tf.print(y)"
      ],
      "metadata": {
        "colab": {
          "base_uri": "https://localhost:8080/"
        },
        "id": "Un4MzkfNNHtj",
        "outputId": "21f3be80-8ad0-49b9-e128-a18ddd6e9fc8"
      },
      "execution_count": 3,
      "outputs": [
        {
          "output_type": "stream",
          "name": "stdout",
          "text": [
            "[[2 2 2]\n",
            " [2 2 2]]\n"
          ]
        }
      ]
    },
    {
      "cell_type": "code",
      "source": [
        "W = tf.Variable(tf.random.normal([2,2], stddev=0.1),name = \"W\")\n",
        "b = tf.Variable(tf.zeros(shape=(2)), name=\"b\")\n",
        "print(W)\n",
        "print(b)"
      ],
      "metadata": {
        "colab": {
          "base_uri": "https://localhost:8080/"
        },
        "id": "Y8Oe8XX7NVNK",
        "outputId": "42b55bad-af04-436c-a71c-0e9ce2428d74"
      },
      "execution_count": 14,
      "outputs": [
        {
          "output_type": "stream",
          "name": "stdout",
          "text": [
            "<tf.Variable 'W:0' shape=(2, 2) dtype=float32, numpy=\n",
            "array([[ 0.05709892,  0.01071787],\n",
            "       [ 0.0572807 , -0.04348768]], dtype=float32)>\n",
            "<tf.Variable 'b:0' shape=(2,) dtype=float32, numpy=array([0., 0.], dtype=float32)>\n"
          ]
        }
      ]
    },
    {
      "cell_type": "code",
      "source": [
        "import numpy as np\n",
        "matrix1 = np.array([(2,2,2),(2,2,2),(2,2,2)],dtype = 'int32')\n",
        "matrix2 = np.array([(1,1,1),(1,1,1),(1,1,1)],dtype = 'int32')\n",
        "matrix1 = tf.constant(matrix1)\n",
        "matrix2 = tf.constant(matrix2)\n",
        "print (matrix1)\n",
        "print (matrix2)"
      ],
      "metadata": {
        "colab": {
          "base_uri": "https://localhost:8080/"
        },
        "id": "uBKyBLSaRp9b",
        "outputId": "5c9f7cf3-cbd1-4bbd-c47b-3f374a716932"
      },
      "execution_count": 17,
      "outputs": [
        {
          "output_type": "stream",
          "name": "stdout",
          "text": [
            "tf.Tensor(\n",
            "[[2 2 2]\n",
            " [2 2 2]\n",
            " [2 2 2]], shape=(3, 3), dtype=int32)\n",
            "tf.Tensor(\n",
            "[[1 1 1]\n",
            " [1 1 1]\n",
            " [1 1 1]], shape=(3, 3), dtype=int32)\n"
          ]
        }
      ]
    },
    {
      "cell_type": "code",
      "source": [
        "matrix_product = tf.matmul(matrix1, matrix2)\n",
        "print(matrix_product)\n",
        "\n",
        "matrix_sum = tf.add(matrix1,matrix2)\n",
        "print(matrix_sum)"
      ],
      "metadata": {
        "colab": {
          "base_uri": "https://localhost:8080/"
        },
        "id": "2v8ysaRbR-z8",
        "outputId": "9fd12115-6d3c-4bb7-b488-f8d10fc9db36"
      },
      "execution_count": 18,
      "outputs": [
        {
          "output_type": "stream",
          "name": "stdout",
          "text": [
            "tf.Tensor(\n",
            "[[6 6 6]\n",
            " [6 6 6]\n",
            " [6 6 6]], shape=(3, 3), dtype=int32)\n",
            "tf.Tensor(\n",
            "[[3 3 3]\n",
            " [3 3 3]\n",
            " [3 3 3]], shape=(3, 3), dtype=int32)\n"
          ]
        }
      ]
    },
    {
      "cell_type": "code",
      "source": [
        "x = tf.Variable(2, name=\"x\")\n",
        "y = tf.Variable(4, name=\"y\")\n",
        "f = x*x + y*y + 2\n",
        "\n",
        "print(f)"
      ],
      "metadata": {
        "colab": {
          "base_uri": "https://localhost:8080/"
        },
        "id": "Gtny-I9xS0ke",
        "outputId": "f83afd23-d2b7-4ab8-e33a-8f4e431bc5b0"
      },
      "execution_count": 28,
      "outputs": [
        {
          "output_type": "stream",
          "name": "stdout",
          "text": [
            "tf.Tensor(22, shape=(), dtype=int32)\n"
          ]
        }
      ]
    },
    {
      "cell_type": "code",
      "source": [
        "tf.compat.v1.disable_eager_execution()\n",
        "input = tf.compat.v1.placeholder(tf.float32, shape=(None, 2))\n",
        "mul=input*2\n",
        "\n",
        "with tf.compat.v1.Session() as sess:\n",
        "  data = [[1, 2], [3, 4], [5, 6]]\n",
        "  result = sess.run(mul, feed_dict={input: data})\n",
        "  print(\"Result:\\n\",result)"
      ],
      "metadata": {
        "colab": {
          "base_uri": "https://localhost:8080/"
        },
        "id": "nEZ6NMUGbzDW",
        "outputId": "4e861044-7476-46d1-80ed-242d4fcc4141"
      },
      "execution_count": 31,
      "outputs": [
        {
          "output_type": "stream",
          "name": "stdout",
          "text": [
            "Result:\n",
            " [[ 2.  4.]\n",
            " [ 6.  8.]\n",
            " [10. 12.]]\n"
          ]
        }
      ]
    },
    {
      "cell_type": "code",
      "source": [
        "my_graph = tf.Graph()\n",
        "\n",
        "with my_graph.as_default():\n",
        "   a = tf.constant(2)\n",
        "   b= tf.constant(3)\n",
        "   add = a + b\n",
        "\n",
        "with tf.compat.v1.Session (graph=my_graph) as sess:\n",
        "  result = sess.run(add)\n",
        "\n",
        "print(\"Result of a + b:\", result)\n"
      ],
      "metadata": {
        "colab": {
          "base_uri": "https://localhost:8080/"
        },
        "id": "f__k8Jf9Ty1M",
        "outputId": "db3b66f3-b504-4d0f-c18a-49e24edea960"
      },
      "execution_count": 29,
      "outputs": [
        {
          "output_type": "stream",
          "name": "stdout",
          "text": [
            "Result of a + b: 5\n"
          ]
        }
      ]
    },
    {
      "cell_type": "code",
      "source": [
        "t = tf.Variable(0)\n",
        "def increment():\n",
        "   t.assign(t + 1)\n",
        "\n",
        "for _ in range(5):\n",
        "  increment()\n",
        "  var_value = t.numpy()\n",
        "  print(\"After increment:\", var_value)\n",
        "\n"
      ],
      "metadata": {
        "colab": {
          "base_uri": "https://localhost:8080/"
        },
        "id": "2uRllVDhak31",
        "outputId": "8c6d015f-0849-47cc-b717-27326d089ea6"
      },
      "execution_count": 30,
      "outputs": [
        {
          "output_type": "stream",
          "name": "stdout",
          "text": [
            "After increment: 1\n",
            "After increment: 2\n",
            "After increment: 3\n",
            "After increment: 4\n",
            "After increment: 5\n"
          ]
        }
      ]
    }
  ]
}